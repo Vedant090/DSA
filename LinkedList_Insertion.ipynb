{
  "nbformat": 4,
  "nbformat_minor": 0,
  "metadata": {
    "colab": {
      "provenance": [],
      "authorship_tag": "ABX9TyO3bIWWFpmO2e/lbFArsDRY",
      "include_colab_link": true
    },
    "kernelspec": {
      "name": "python3",
      "display_name": "Python 3"
    },
    "language_info": {
      "name": "python"
    }
  },
  "cells": [
    {
      "cell_type": "markdown",
      "metadata": {
        "id": "view-in-github",
        "colab_type": "text"
      },
      "source": [
        "<a href=\"https://colab.research.google.com/github/Vedant090/DSA/blob/main/LinkedList_Insertion.ipynb\" target=\"_parent\"><img src=\"https://colab.research.google.com/assets/colab-badge.svg\" alt=\"Open In Colab\"/></a>"
      ]
    },
    {
      "cell_type": "code",
      "execution_count": 1,
      "metadata": {
        "id": "V2bBTkyuyXJD"
      },
      "outputs": [],
      "source": [
        "class Node:\n",
        "\n",
        "    def __init__(self,value):\n",
        "        self.data=value\n",
        "        self.next=None"
      ]
    },
    {
      "cell_type": "code",
      "source": [
        "class LinkedList:\n",
        "    def __init__(self):\n",
        "        self.head = None\n",
        "\n",
        "    def __int__(self):\n",
        "        self.head = None"
      ],
      "metadata": {
        "id": "QlBfou0MygCO"
      },
      "execution_count": 2,
      "outputs": []
    },
    {
      "cell_type": "code",
      "source": [
        "   #insertion in head\n",
        "def insert_head(self,value):\n",
        "  new_node = Node(value)\n",
        "  new_node.next = self.head\n",
        "  self.head = new_node"
      ],
      "metadata": {
        "id": "pPk4_tZ_yvVh"
      },
      "execution_count": 5,
      "outputs": []
    },
    {
      "cell_type": "code",
      "source": [
        "#insertion at tail\n",
        "def append(self,value):\n",
        "  new_node=Node(value)\n",
        "  #if list is empty\n",
        "  if self.head == None:\n",
        "    self.head=new_node\n",
        "    return\n",
        "  curr = self.head\n",
        "  while curr.next!= None:\n",
        "    curr = curr.next\n",
        "  curr.next = new_node"
      ],
      "metadata": {
        "id": "lDII6B2Ky2C_"
      },
      "execution_count": 7,
      "outputs": []
    },
    {
      "cell_type": "code",
      "source": [
        "def insert_after(self,after,value):\n",
        "  new_node=Node(value)\n",
        "  curr=self.head\n",
        "  while curr!=None:\n",
        "    if curr.data == after:\n",
        "      break\n",
        "    curr = curr.next\n",
        "\n",
        "    if curr!=None:\n",
        "        new_node.next=curr.next\n",
        "        curr.next=new_node\n",
        "\n",
        "    elif curr == None:\n",
        "        print('value do not exist')"
      ],
      "metadata": {
        "id": "hpTPJWNqzZet"
      },
      "execution_count": 10,
      "outputs": []
    },
    {
      "cell_type": "code",
      "source": [
        "def traverse(self):\n",
        "\n",
        "  curr = self.head\n",
        "  while curr!=None:\n",
        "    print(curr.data)\n",
        "    curr = curr.next"
      ],
      "metadata": {
        "id": "aF9-MNMtzxI7"
      },
      "execution_count": 11,
      "outputs": []
    },
    {
      "cell_type": "code",
      "source": [],
      "metadata": {
        "id": "an1usgIp0J5s"
      },
      "execution_count": null,
      "outputs": []
    }
  ]
}